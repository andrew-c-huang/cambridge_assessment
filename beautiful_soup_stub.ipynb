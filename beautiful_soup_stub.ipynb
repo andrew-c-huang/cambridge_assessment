{
 "cells": [
  {
   "cell_type": "markdown",
   "metadata": {},
   "source": [
    "from bs4 import BeautifulSoup\n",
    "import requests"
   ]
  },
  {
   "cell_type": "code",
   "execution_count": 8,
   "metadata": {
    "collapsed": true
   },
   "outputs": [],
   "source": [
    "r = requests.get('https://www.cambridgema.gov/propertydatabase/20747')"
   ]
  },
  {
   "cell_type": "code",
   "execution_count": 12,
   "metadata": {
    "collapsed": false
   },
   "outputs": [],
   "source": [
    "soup = BeautifulSoup(r.text, 'html.parser')"
   ]
  },
  {
   "cell_type": "code",
   "execution_count": 13,
   "metadata": {
    "collapsed": false
   },
   "outputs": [
    {
     "data": {
      "text/plain": [
       "<title>\\r\\n\\tProperty Database - City of Cambridge, Massachusetts\\r\\n</title>"
      ]
     },
     "execution_count": 13,
     "metadata": {},
     "output_type": "execute_result"
    }
   ],
   "source": [
    "soup.title"
   ]
  },
  {
   "cell_type": "code",
   "execution_count": 58,
   "metadata": {
    "collapsed": false
   },
   "outputs": [
    {
     "data": {
      "text/plain": [
       "<td id=\"Primary_PropertyDBSearch_PI_PropertyClass\">TWO-FAM-RES</td>"
      ]
     },
     "execution_count": 58,
     "metadata": {},
     "output_type": "execute_result"
    }
   ],
   "source": [
    "soup.tr.td"
   ]
  },
  {
   "cell_type": "code",
   "execution_count": 40,
   "metadata": {
    "collapsed": false
   },
   "outputs": [
    {
     "name": "stdout",
     "output_type": "stream",
     "text": [
      "Primary_PropertyDBSearch_PI_PropertyClass\n",
      "TWO-FAM-RES\n"
     ]
    }
   ],
   "source": [
    "print soup.tr.td['id']\n",
    "print soup.tr.td.string"
   ]
  },
  {
   "cell_type": "code",
   "execution_count": 50,
   "metadata": {
    "collapsed": false
   },
   "outputs": [
    {
     "name": "stdout",
     "output_type": "stream",
     "text": [
      "\n",
      "\n",
      "Property Class\n",
      "\n",
      "\n",
      "TWO-FAM-RES\n",
      "\n",
      "\n"
     ]
    }
   ],
   "source": [
    "for i in soup.tr.strings:\n",
    "    print i"
   ]
  },
  {
   "cell_type": "code",
   "execution_count": 78,
   "metadata": {
    "collapsed": false
   },
   "outputs": [
    {
     "data": {
      "text/plain": [
       "[]"
      ]
     },
     "execution_count": 78,
     "metadata": {},
     "output_type": "execute_result"
    }
   ],
   "source": [
    "soup.find_all('tr', scope_='row')"
   ]
  },
  {
   "cell_type": "code",
   "execution_count": 71,
   "metadata": {
    "collapsed": false
   },
   "outputs": [
    {
     "data": {
      "text/plain": [
       "[<th scope=\"row\">Property Class</th>,\n",
       " <th scope=\"row\">State Class Code</th>,\n",
       " <th scope=\"row\">Zoning (Unofficial)</th>,\n",
       " <th scope=\"row\">Map/Lot</th>,\n",
       " <th scope=\"row\">Land Area (sq. ft)</th>,\n",
       " <th scope=\"row\">Year of Assessment</th>,\n",
       " <th scope=\"row\">Tax District</th>,\n",
       " <th scope=\"row\">Residential Exemption</th>,\n",
       " <th scope=\"row\">Building Value</th>,\n",
       " <th scope=\"row\">Land Value</th>,\n",
       " <th scope=\"row\">Assessed Value</th>,\n",
       " <th scope=\"row\">Sale Price</th>,\n",
       " <th scope=\"row\">Book/Page</th>,\n",
       " <th scope=\"row\">Sale Date</th>,\n",
       " <th scope=\"row\">Previous Assessed Value</th>,\n",
       " <th scope=\"row\">Owner(s)</th>,\n",
       " <th scope=\"row\">Style</th>,\n",
       " <th scope=\"row\">Occupancy</th>,\n",
       " <th scope=\"row\">Number of Stories</th>,\n",
       " <th scope=\"row\">Exterior Wall Type</th>,\n",
       " <th scope=\"row\">Roof Type</th>,\n",
       " <th scope=\"row\">Roof Material</th>,\n",
       " <th scope=\"row\">Living Area (sq. ft.)</th>,\n",
       " <th scope=\"row\">Number of Units</th>,\n",
       " <th scope=\"row\">Total Rooms</th>,\n",
       " <th scope=\"row\">Bedrooms</th>,\n",
       " <th scope=\"row\">Kitchens</th>,\n",
       " <th scope=\"row\">Full Baths</th>,\n",
       " <th scope=\"row\">Half Baths</th>,\n",
       " <th scope=\"row\">Fireplaces</th>,\n",
       " <th scope=\"row\">Heat Type</th>,\n",
       " <th scope=\"row\">Heat Fuel</th>,\n",
       " <th scope=\"row\">Central A/C</th>,\n",
       " <th scope=\"row\">Year Built</th>,\n",
       " <th scope=\"row\">Interior Condition</th>,\n",
       " <th scope=\"row\">Overall Condition</th>,\n",
       " <th scope=\"row\">Overall Grade</th>,\n",
       " <th scope=\"row\">Open Parking</th>,\n",
       " <th scope=\"row\">Covered Parking</th>,\n",
       " <th scope=\"col\" style=\"width:3em;\">Code</th>,\n",
       " <th scope=\"col\" style=\"width:15em;\">Description</th>,\n",
       " <th scope=\"col\" style=\"width:5em;\">Gross Area</th>,\n",
       " <th scope=\"col\" style=\"width:5em;\">Living Area</th>,\n",
       " <th scope=\"row\">Description</th>,\n",
       " <th scope=\"row\">Number of Units</th>,\n",
       " <th scope=\"row\">Unit Type</th>]"
      ]
     },
     "execution_count": 71,
     "metadata": {},
     "output_type": "execute_result"
    }
   ],
   "source": [
    "soup.find_all('th')"
   ]
  },
  {
   "cell_type": "code",
   "execution_count": null,
   "metadata": {
    "collapsed": true
   },
   "outputs": [],
   "source": [
    "soup.title\n",
    "# <title>The Dormouse's story</title>\n",
    "\n",
    "soup.title.name\n",
    "# u'title'\n",
    "\n",
    "soup.title.string\n",
    "# u'The Dormouse's story'\n",
    "\n",
    "soup.title.parent.name\n",
    "# u'head'\n",
    "\n",
    "soup.p\n",
    "# <p class=\"title\"><b>The Dormouse's story</b></p>\n",
    "\n",
    "soup.p['class']\n",
    "# u'title'\n",
    "\n",
    "soup.a\n",
    "# <a class=\"sister\" href=\"http://example.com/elsie\" id=\"link1\">Elsie</a>\n",
    "\n",
    "soup.find_all('a')\n",
    "# [<a class=\"sister\" href=\"http://example.com/elsie\" id=\"link1\">Elsie</a>,\n",
    "#  <a class=\"sister\" href=\"http://example.com/lacie\" id=\"link2\">Lacie</a>,\n",
    "#  <a class=\"sister\" href=\"http://example.com/tillie\" id=\"link3\">Tillie</a>]\n",
    "\n",
    "soup.find(id=\"link3\")"
   ]
  }
 ],
 "metadata": {
  "kernelspec": {
   "display_name": "Python 2",
   "language": "python",
   "name": "python2"
  },
  "language_info": {
   "codemirror_mode": {
    "name": "ipython",
    "version": 2
   },
   "file_extension": ".py",
   "mimetype": "text/x-python",
   "name": "python",
   "nbconvert_exporter": "python",
   "pygments_lexer": "ipython2",
   "version": "2.7.11"
  }
 },
 "nbformat": 4,
 "nbformat_minor": 0
}
