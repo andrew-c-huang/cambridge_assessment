{
 "cells": [
  {
   "cell_type": "code",
   "execution_count": 2,
   "metadata": {
    "collapsed": true
   },
   "outputs": [],
   "source": [
    "import pyzillow\n",
    "import pandas as pd"
   ]
  },
  {
   "cell_type": "code",
   "execution_count": null,
   "metadata": {
    "collapsed": true
   },
   "outputs": [],
   "source": [
    "address = []\n",
    "for idx in df.index:\n",
    "    r = requests.get('https://www.cambridgema.gov/propertydatabase/' + str(idx))\n",
    "    sp = BeautifulSoup(r.text, \"lxml\")\n",
    "    address.append[sp.find_all('h2')[0].get_text()]"
   ]
  },
  {
   "cell_type": "raw",
   "metadata": {},
   "source": [
    "- zillow_id\n",
    "- home_type\n",
    "- home_detail_link\n",
    "- photo_gallery\n",
    "- latitude\n",
    "- latitude\n",
    "- coordinates\n",
    "- year_built\n",
    "- property_size\n",
    "- home_size\n",
    "- bathrooms\n",
    "- bedrooms\n",
    "- home_info\n",
    "- year_updated\n",
    "- floors\n",
    "- basement\n",
    "- roof\n",
    "- view\n",
    "- heating_sources\n",
    "- heating_system\n",
    "- rooms\n",
    "- neighborhood\n",
    "- school_district"
   ]
  },
  {
   "cell_type": "code",
   "execution_count": 5,
   "metadata": {
    "collapsed": false
   },
   "outputs": [
    {
     "data": {
      "text/plain": [
       "'67079996'"
      ]
     },
     "execution_count": 5,
     "metadata": {},
     "output_type": "execute_result"
    }
   ],
   "source": [
    "from pyzillow.pyzillow import ZillowWrapper, GetDeepSearchResults\n",
    "\n",
    "address = '85 richdale ave, unit 4'\n",
    "zipcode = '02140'\n",
    "zillowapi = 'X1-ZWz1ffn6257ojv_4zss3'\n",
    "zillow_data = ZillowWrapper(zillowapi)\n",
    "deep_search_response = zillow_data.get_deep_search_results(address, zipcode)\n",
    "result = GetDeepSearchResults(deep_search_response)\n",
    "\n",
    "result.zillow_id # zillow id, needed for the GetUpdatedPropertyDetails"
   ]
  },
  {
   "cell_type": "code",
   "execution_count": 6,
   "metadata": {
    "collapsed": false
   },
   "outputs": [
    {
     "data": {
      "text/plain": [
       "'2.0'"
      ]
     },
     "execution_count": 6,
     "metadata": {},
     "output_type": "execute_result"
    }
   ],
   "source": [
    "result."
   ]
  },
  {
   "cell_type": "code",
   "execution_count": null,
   "metadata": {
    "collapsed": true
   },
   "outputs": [],
   "source": []
  }
 ],
 "metadata": {
  "kernelspec": {
   "display_name": "Python 2",
   "language": "python",
   "name": "python2"
  },
  "language_info": {
   "codemirror_mode": {
    "name": "ipython",
    "version": 2
   },
   "file_extension": ".py",
   "mimetype": "text/x-python",
   "name": "python",
   "nbconvert_exporter": "python",
   "pygments_lexer": "ipython2",
   "version": "2.7.11"
  }
 },
 "nbformat": 4,
 "nbformat_minor": 0
}
